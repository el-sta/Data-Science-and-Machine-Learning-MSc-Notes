{
 "cells": [
  {
   "cell_type": "markdown",
   "id": "1f02e5fb",
   "metadata": {},
   "source": [
    "### Estimation of the wine quality"
   ]
  },
  {
   "cell_type": "markdown",
   "id": "5b022c64",
   "metadata": {},
   "source": [
    " A very frequent problem in machine learning is predicting the value of a feature of an unknown set of\n",
    "samples, based on the remaining features with respect to a given dataset. This is performed by proper\n",
    "analysis of the predictors, i.e. the features that will be used as inputs to the model, and the labels which\n",
    "are the outputs of the model. An interesting use case, in these lines, is the estimation of the wine quality\n",
    "based on its characteristics. An available dataset containing information regarding several “white” and\n",
    "“red” wines can be obtained from https://archive.ics.uci.edu/static/public/186/wine+quality.zip. This\n",
    "assignment requires the design and implementation of an end-to-end machine learning solution that adheres to the following:\n",
    "\n",
    " 1) Open a Jupyter-notebook. Download the wines dataset and load the data of the “red” wines.\n",
    " \n",
    " 2) What are the features describing the quality of the wines?\n",
    " \n",
    " 3) Compute the descriptive statics of the dataset features and discuss about their types, ranges and completeness.\n",
    " \n",
    " 4) Form the histograms of the features and discuss their distribution. Can the distribution of some features\n",
    "    be improved (tending more towards the Gaussian) and how?\n",
    "    \n",
    " 5) Which are the features that mostly affect quality and which are those that affect it less? Provide evidence through\n",
    "    correlation and discuss accordingly.\n",
    "    \n",
    " 6) Split the dataset into a training and a testing set retaining 80% and 20% of the total number of samples,\n",
    "    respectively, using random shuffling and splitting that retains the statistical properties of the input data\n",
    "    (stratified) with respect to quality.\n",
    "    \n",
    " 7) Scale the data with a Standard scaler and train a linear regression model. Evaluate the performance of the model, \n",
    "    using the test set, with respect to metrics such as R2-score, Mean Absolute Error, Mean Absolute Percentage Error,\n",
    "    Mean Squared Error and Accuracy. Comment on the accuracy of predictions by plotting Actuals vs Predicted diagram.\n",
    "    \n",
    " 8) Perform 10-fold cross validation and compute the mean and standard deviation of the scores over thefolds. Is the model’s\n",
    "    R2-score within the limits defined by the 10-fold cross validation?"
   ]
  },
  {
   "cell_type": "markdown",
   "id": "8acf3bef",
   "metadata": {},
   "source": [
    "### Solution"
   ]
  },
  {
   "cell_type": "markdown",
   "id": "abf2ba27",
   "metadata": {},
   "source": [
    "1."
   ]
  },
  {
   "cell_type": "code",
   "execution_count": 1,
   "id": "677e1f71",
   "metadata": {},
   "outputs": [],
   "source": [
    "# Import the necessary libraries\n",
    "from pathlib import Path\n",
    "import pandas as pd\n",
    "import tarfile\n",
    "import urllib.request\n",
    "import zipfile\n",
    "import tempfile\n",
    "import matplotlib.pyplot as plt"
   ]
  },
  {
   "cell_type": "code",
   "execution_count": 2,
   "id": "3863059c",
   "metadata": {},
   "outputs": [],
   "source": [
    "#Download and load the data\n",
    "def load_wine_data():\n",
    "    zip_path = Path(\"datasets/winequality.zip\")\n",
    "    if not zip_path.is_file():\n",
    "        # Create directory if it does not exist\n",
    "        Path(\"datasets\").mkdir(parents=True, exist_ok=True)\n",
    "        url = \"https://archive.ics.uci.edu/static/public/186/wine+quality.zip\"\n",
    "        # Download the dataset\n",
    "        urllib.request.urlretrieve(url, zip_path)\n",
    "        \n",
    "        # Extract the zip file\n",
    "        with zipfile.ZipFile(zip_path, 'r') as wine_zip:\n",
    "            wine_zip.extractall(path=\"datasets\")\n",
    "    \n",
    "    # Load the red wine data\n",
    "    red_wine_data = pd.read_csv(Path(\"datasets/winequality-red.csv\"), sep=';')\n",
    "    return red_wine_data\n",
    "\n",
    "# Load the red wine data\n",
    "red_wine_data = load_wine_data()"
   ]
  },
  {
   "cell_type": "code",
   "execution_count": 3,
   "id": "0b898c08",
   "metadata": {},
   "outputs": [
    {
     "data": {
      "text/html": [
       "<div>\n",
       "<style scoped>\n",
       "    .dataframe tbody tr th:only-of-type {\n",
       "        vertical-align: middle;\n",
       "    }\n",
       "\n",
       "    .dataframe tbody tr th {\n",
       "        vertical-align: top;\n",
       "    }\n",
       "\n",
       "    .dataframe thead th {\n",
       "        text-align: right;\n",
       "    }\n",
       "</style>\n",
       "<table border=\"1\" class=\"dataframe\">\n",
       "  <thead>\n",
       "    <tr style=\"text-align: right;\">\n",
       "      <th></th>\n",
       "      <th>fixed acidity</th>\n",
       "      <th>volatile acidity</th>\n",
       "      <th>citric acid</th>\n",
       "      <th>residual sugar</th>\n",
       "      <th>chlorides</th>\n",
       "      <th>free sulfur dioxide</th>\n",
       "      <th>total sulfur dioxide</th>\n",
       "      <th>density</th>\n",
       "      <th>pH</th>\n",
       "      <th>sulphates</th>\n",
       "      <th>alcohol</th>\n",
       "      <th>quality</th>\n",
       "    </tr>\n",
       "  </thead>\n",
       "  <tbody>\n",
       "    <tr>\n",
       "      <th>0</th>\n",
       "      <td>7.4</td>\n",
       "      <td>0.70</td>\n",
       "      <td>0.00</td>\n",
       "      <td>1.9</td>\n",
       "      <td>0.076</td>\n",
       "      <td>11.0</td>\n",
       "      <td>34.0</td>\n",
       "      <td>0.9978</td>\n",
       "      <td>3.51</td>\n",
       "      <td>0.56</td>\n",
       "      <td>9.4</td>\n",
       "      <td>5</td>\n",
       "    </tr>\n",
       "    <tr>\n",
       "      <th>1</th>\n",
       "      <td>7.8</td>\n",
       "      <td>0.88</td>\n",
       "      <td>0.00</td>\n",
       "      <td>2.6</td>\n",
       "      <td>0.098</td>\n",
       "      <td>25.0</td>\n",
       "      <td>67.0</td>\n",
       "      <td>0.9968</td>\n",
       "      <td>3.20</td>\n",
       "      <td>0.68</td>\n",
       "      <td>9.8</td>\n",
       "      <td>5</td>\n",
       "    </tr>\n",
       "    <tr>\n",
       "      <th>2</th>\n",
       "      <td>7.8</td>\n",
       "      <td>0.76</td>\n",
       "      <td>0.04</td>\n",
       "      <td>2.3</td>\n",
       "      <td>0.092</td>\n",
       "      <td>15.0</td>\n",
       "      <td>54.0</td>\n",
       "      <td>0.9970</td>\n",
       "      <td>3.26</td>\n",
       "      <td>0.65</td>\n",
       "      <td>9.8</td>\n",
       "      <td>5</td>\n",
       "    </tr>\n",
       "    <tr>\n",
       "      <th>3</th>\n",
       "      <td>11.2</td>\n",
       "      <td>0.28</td>\n",
       "      <td>0.56</td>\n",
       "      <td>1.9</td>\n",
       "      <td>0.075</td>\n",
       "      <td>17.0</td>\n",
       "      <td>60.0</td>\n",
       "      <td>0.9980</td>\n",
       "      <td>3.16</td>\n",
       "      <td>0.58</td>\n",
       "      <td>9.8</td>\n",
       "      <td>6</td>\n",
       "    </tr>\n",
       "    <tr>\n",
       "      <th>4</th>\n",
       "      <td>7.4</td>\n",
       "      <td>0.70</td>\n",
       "      <td>0.00</td>\n",
       "      <td>1.9</td>\n",
       "      <td>0.076</td>\n",
       "      <td>11.0</td>\n",
       "      <td>34.0</td>\n",
       "      <td>0.9978</td>\n",
       "      <td>3.51</td>\n",
       "      <td>0.56</td>\n",
       "      <td>9.4</td>\n",
       "      <td>5</td>\n",
       "    </tr>\n",
       "  </tbody>\n",
       "</table>\n",
       "</div>"
      ],
      "text/plain": [
       "   fixed acidity  volatile acidity  citric acid  residual sugar  chlorides  \\\n",
       "0            7.4              0.70         0.00             1.9      0.076   \n",
       "1            7.8              0.88         0.00             2.6      0.098   \n",
       "2            7.8              0.76         0.04             2.3      0.092   \n",
       "3           11.2              0.28         0.56             1.9      0.075   \n",
       "4            7.4              0.70         0.00             1.9      0.076   \n",
       "\n",
       "   free sulfur dioxide  total sulfur dioxide  density    pH  sulphates  \\\n",
       "0                 11.0                  34.0   0.9978  3.51       0.56   \n",
       "1                 25.0                  67.0   0.9968  3.20       0.68   \n",
       "2                 15.0                  54.0   0.9970  3.26       0.65   \n",
       "3                 17.0                  60.0   0.9980  3.16       0.58   \n",
       "4                 11.0                  34.0   0.9978  3.51       0.56   \n",
       "\n",
       "   alcohol  quality  \n",
       "0      9.4        5  \n",
       "1      9.8        5  \n",
       "2      9.8        5  \n",
       "3      9.8        6  \n",
       "4      9.4        5  "
      ]
     },
     "execution_count": 3,
     "metadata": {},
     "output_type": "execute_result"
    }
   ],
   "source": [
    "# Inspect the data\n",
    "red_wine_data.head()"
   ]
  },
  {
   "cell_type": "markdown",
   "id": "2330bd00",
   "metadata": {},
   "source": [
    "2."
   ]
  },
  {
   "cell_type": "code",
   "execution_count": 4,
   "id": "f22751fa",
   "metadata": {},
   "outputs": [
    {
     "name": "stdout",
     "output_type": "stream",
     "text": [
      "The features describing the quality of the wines are:\n",
      "- fixed acidity\n",
      "- volatile acidity\n",
      "- citric acid\n",
      "- residual sugar\n",
      "- chlorides\n",
      "- free sulfur dioxide\n",
      "- total sulfur dioxide\n",
      "- density\n",
      "- pH\n",
      "- sulphates\n",
      "- alcohol\n"
     ]
    }
   ],
   "source": [
    "# The features describing the quality of the wines\n",
    "print(\"The features describing the quality of the wines are:\")\n",
    "for column in red_wine_data.columns[:-1]:\n",
    "    print(f\"- {column}\")"
   ]
  },
  {
   "cell_type": "markdown",
   "id": "be1960d2",
   "metadata": {},
   "source": [
    "3."
   ]
  },
  {
   "cell_type": "code",
   "execution_count": 5,
   "id": "be46a309",
   "metadata": {},
   "outputs": [
    {
     "data": {
      "text/html": [
       "<div>\n",
       "<style scoped>\n",
       "    .dataframe tbody tr th:only-of-type {\n",
       "        vertical-align: middle;\n",
       "    }\n",
       "\n",
       "    .dataframe tbody tr th {\n",
       "        vertical-align: top;\n",
       "    }\n",
       "\n",
       "    .dataframe thead th {\n",
       "        text-align: right;\n",
       "    }\n",
       "</style>\n",
       "<table border=\"1\" class=\"dataframe\">\n",
       "  <thead>\n",
       "    <tr style=\"text-align: right;\">\n",
       "      <th></th>\n",
       "      <th>fixed acidity</th>\n",
       "      <th>volatile acidity</th>\n",
       "      <th>citric acid</th>\n",
       "      <th>residual sugar</th>\n",
       "      <th>chlorides</th>\n",
       "      <th>free sulfur dioxide</th>\n",
       "      <th>total sulfur dioxide</th>\n",
       "      <th>density</th>\n",
       "      <th>pH</th>\n",
       "      <th>sulphates</th>\n",
       "      <th>alcohol</th>\n",
       "      <th>quality</th>\n",
       "    </tr>\n",
       "  </thead>\n",
       "  <tbody>\n",
       "    <tr>\n",
       "      <th>count</th>\n",
       "      <td>1599.000000</td>\n",
       "      <td>1599.000000</td>\n",
       "      <td>1599.000000</td>\n",
       "      <td>1599.000000</td>\n",
       "      <td>1599.000000</td>\n",
       "      <td>1599.000000</td>\n",
       "      <td>1599.000000</td>\n",
       "      <td>1599.000000</td>\n",
       "      <td>1599.000000</td>\n",
       "      <td>1599.000000</td>\n",
       "      <td>1599.000000</td>\n",
       "      <td>1599.000000</td>\n",
       "    </tr>\n",
       "    <tr>\n",
       "      <th>mean</th>\n",
       "      <td>8.319637</td>\n",
       "      <td>0.527821</td>\n",
       "      <td>0.270976</td>\n",
       "      <td>2.538806</td>\n",
       "      <td>0.087467</td>\n",
       "      <td>15.874922</td>\n",
       "      <td>46.467792</td>\n",
       "      <td>0.996747</td>\n",
       "      <td>3.311113</td>\n",
       "      <td>0.658149</td>\n",
       "      <td>10.422983</td>\n",
       "      <td>5.636023</td>\n",
       "    </tr>\n",
       "    <tr>\n",
       "      <th>std</th>\n",
       "      <td>1.741096</td>\n",
       "      <td>0.179060</td>\n",
       "      <td>0.194801</td>\n",
       "      <td>1.409928</td>\n",
       "      <td>0.047065</td>\n",
       "      <td>10.460157</td>\n",
       "      <td>32.895324</td>\n",
       "      <td>0.001887</td>\n",
       "      <td>0.154386</td>\n",
       "      <td>0.169507</td>\n",
       "      <td>1.065668</td>\n",
       "      <td>0.807569</td>\n",
       "    </tr>\n",
       "    <tr>\n",
       "      <th>min</th>\n",
       "      <td>4.600000</td>\n",
       "      <td>0.120000</td>\n",
       "      <td>0.000000</td>\n",
       "      <td>0.900000</td>\n",
       "      <td>0.012000</td>\n",
       "      <td>1.000000</td>\n",
       "      <td>6.000000</td>\n",
       "      <td>0.990070</td>\n",
       "      <td>2.740000</td>\n",
       "      <td>0.330000</td>\n",
       "      <td>8.400000</td>\n",
       "      <td>3.000000</td>\n",
       "    </tr>\n",
       "    <tr>\n",
       "      <th>25%</th>\n",
       "      <td>7.100000</td>\n",
       "      <td>0.390000</td>\n",
       "      <td>0.090000</td>\n",
       "      <td>1.900000</td>\n",
       "      <td>0.070000</td>\n",
       "      <td>7.000000</td>\n",
       "      <td>22.000000</td>\n",
       "      <td>0.995600</td>\n",
       "      <td>3.210000</td>\n",
       "      <td>0.550000</td>\n",
       "      <td>9.500000</td>\n",
       "      <td>5.000000</td>\n",
       "    </tr>\n",
       "    <tr>\n",
       "      <th>50%</th>\n",
       "      <td>7.900000</td>\n",
       "      <td>0.520000</td>\n",
       "      <td>0.260000</td>\n",
       "      <td>2.200000</td>\n",
       "      <td>0.079000</td>\n",
       "      <td>14.000000</td>\n",
       "      <td>38.000000</td>\n",
       "      <td>0.996750</td>\n",
       "      <td>3.310000</td>\n",
       "      <td>0.620000</td>\n",
       "      <td>10.200000</td>\n",
       "      <td>6.000000</td>\n",
       "    </tr>\n",
       "    <tr>\n",
       "      <th>75%</th>\n",
       "      <td>9.200000</td>\n",
       "      <td>0.640000</td>\n",
       "      <td>0.420000</td>\n",
       "      <td>2.600000</td>\n",
       "      <td>0.090000</td>\n",
       "      <td>21.000000</td>\n",
       "      <td>62.000000</td>\n",
       "      <td>0.997835</td>\n",
       "      <td>3.400000</td>\n",
       "      <td>0.730000</td>\n",
       "      <td>11.100000</td>\n",
       "      <td>6.000000</td>\n",
       "    </tr>\n",
       "    <tr>\n",
       "      <th>max</th>\n",
       "      <td>15.900000</td>\n",
       "      <td>1.580000</td>\n",
       "      <td>1.000000</td>\n",
       "      <td>15.500000</td>\n",
       "      <td>0.611000</td>\n",
       "      <td>72.000000</td>\n",
       "      <td>289.000000</td>\n",
       "      <td>1.003690</td>\n",
       "      <td>4.010000</td>\n",
       "      <td>2.000000</td>\n",
       "      <td>14.900000</td>\n",
       "      <td>8.000000</td>\n",
       "    </tr>\n",
       "  </tbody>\n",
       "</table>\n",
       "</div>"
      ],
      "text/plain": [
       "       fixed acidity  volatile acidity  citric acid  residual sugar  \\\n",
       "count    1599.000000       1599.000000  1599.000000     1599.000000   \n",
       "mean        8.319637          0.527821     0.270976        2.538806   \n",
       "std         1.741096          0.179060     0.194801        1.409928   \n",
       "min         4.600000          0.120000     0.000000        0.900000   \n",
       "25%         7.100000          0.390000     0.090000        1.900000   \n",
       "50%         7.900000          0.520000     0.260000        2.200000   \n",
       "75%         9.200000          0.640000     0.420000        2.600000   \n",
       "max        15.900000          1.580000     1.000000       15.500000   \n",
       "\n",
       "         chlorides  free sulfur dioxide  total sulfur dioxide      density  \\\n",
       "count  1599.000000          1599.000000           1599.000000  1599.000000   \n",
       "mean      0.087467            15.874922             46.467792     0.996747   \n",
       "std       0.047065            10.460157             32.895324     0.001887   \n",
       "min       0.012000             1.000000              6.000000     0.990070   \n",
       "25%       0.070000             7.000000             22.000000     0.995600   \n",
       "50%       0.079000            14.000000             38.000000     0.996750   \n",
       "75%       0.090000            21.000000             62.000000     0.997835   \n",
       "max       0.611000            72.000000            289.000000     1.003690   \n",
       "\n",
       "                pH    sulphates      alcohol      quality  \n",
       "count  1599.000000  1599.000000  1599.000000  1599.000000  \n",
       "mean      3.311113     0.658149    10.422983     5.636023  \n",
       "std       0.154386     0.169507     1.065668     0.807569  \n",
       "min       2.740000     0.330000     8.400000     3.000000  \n",
       "25%       3.210000     0.550000     9.500000     5.000000  \n",
       "50%       3.310000     0.620000    10.200000     6.000000  \n",
       "75%       3.400000     0.730000    11.100000     6.000000  \n",
       "max       4.010000     2.000000    14.900000     8.000000  "
      ]
     },
     "execution_count": 5,
     "metadata": {},
     "output_type": "execute_result"
    }
   ],
   "source": [
    "# Compute the descriptive statics \n",
    "red_wine_data.describe()"
   ]
  },
  {
   "cell_type": "code",
   "execution_count": 6,
   "id": "dcbfa75f",
   "metadata": {},
   "outputs": [
    {
     "name": "stdout",
     "output_type": "stream",
     "text": [
      "<class 'pandas.core.frame.DataFrame'>\n",
      "RangeIndex: 1599 entries, 0 to 1598\n",
      "Data columns (total 12 columns):\n",
      " #   Column                Non-Null Count  Dtype  \n",
      "---  ------                --------------  -----  \n",
      " 0   fixed acidity         1599 non-null   float64\n",
      " 1   volatile acidity      1599 non-null   float64\n",
      " 2   citric acid           1599 non-null   float64\n",
      " 3   residual sugar        1599 non-null   float64\n",
      " 4   chlorides             1599 non-null   float64\n",
      " 5   free sulfur dioxide   1599 non-null   float64\n",
      " 6   total sulfur dioxide  1599 non-null   float64\n",
      " 7   density               1599 non-null   float64\n",
      " 8   pH                    1599 non-null   float64\n",
      " 9   sulphates             1599 non-null   float64\n",
      " 10  alcohol               1599 non-null   float64\n",
      " 11  quality               1599 non-null   int64  \n",
      "dtypes: float64(11), int64(1)\n",
      "memory usage: 150.0 KB\n"
     ]
    }
   ],
   "source": [
    "# Check for missing values in the dataset and the type\n",
    "red_wine_data.info()"
   ]
  },
  {
   "cell_type": "code",
   "execution_count": 7,
   "id": "12761d52",
   "metadata": {},
   "outputs": [
    {
     "name": "stdout",
     "output_type": "stream",
     "text": [
      "\n",
      "Feature: fixed acidity\n",
      "Type: float64\n",
      "Range:  15.9 - 4.6 = 11.3\n",
      "Missing values: 0\n",
      "\n",
      "Feature: volatile acidity\n",
      "Type: float64\n",
      "Range:  1.58 - 0.12 = 1.46\n",
      "Missing values: 0\n",
      "\n",
      "Feature: citric acid\n",
      "Type: float64\n",
      "Range:  1.0 - 0.0 = 1.0\n",
      "Missing values: 0\n",
      "\n",
      "Feature: residual sugar\n",
      "Type: float64\n",
      "Range:  15.5 - 0.9 = 14.6\n",
      "Missing values: 0\n",
      "\n",
      "Feature: chlorides\n",
      "Type: float64\n",
      "Range:  0.611 - 0.012 = 0.6\n",
      "Missing values: 0\n",
      "\n",
      "Feature: free sulfur dioxide\n",
      "Type: float64\n",
      "Range:  72.0 - 1.0 = 71.0\n",
      "Missing values: 0\n",
      "\n",
      "Feature: total sulfur dioxide\n",
      "Type: float64\n",
      "Range:  289.0 - 6.0 = 283.0\n",
      "Missing values: 0\n",
      "\n",
      "Feature: density\n",
      "Type: float64\n",
      "Range:  1.00369 - 0.99007 = 0.01\n",
      "Missing values: 0\n",
      "\n",
      "Feature: pH\n",
      "Type: float64\n",
      "Range:  4.01 - 2.74 = 1.27\n",
      "Missing values: 0\n",
      "\n",
      "Feature: sulphates\n",
      "Type: float64\n",
      "Range:  2.0 - 0.33 = 1.67\n",
      "Missing values: 0\n",
      "\n",
      "Feature: alcohol\n",
      "Type: float64\n",
      "Range:  14.9 - 8.4 = 6.5\n",
      "Missing values: 0\n",
      "\n",
      "Feature: quality\n",
      "Type: int64\n",
      "Range:  8 - 3 = 5\n",
      "Missing values: 0\n"
     ]
    }
   ],
   "source": [
    "# Types, ranges and completeness\n",
    "for column in red_wine_data.columns:\n",
    "    print(f\"\\nFeature: {column}\")\n",
    "    print(f\"Type: {red_wine_data[column].dtype}\")\n",
    "    range=red_wine_data[column].max()-red_wine_data[column].min()\n",
    "    print(f\"Range:  {red_wine_data[column].max()} - {red_wine_data[column].min()} = {round(range,2)}\")\n",
    "    print(f\"Missing values: {red_wine_data[column].isnull().sum()}\")"
   ]
  },
  {
   "cell_type": "markdown",
   "id": "23b19e94",
   "metadata": {},
   "source": [
    "The dataset does not contain any missing values, which means no imputation or data cleaning is required at this stage. However, the ranges of the features vary significantly. For example, some chemical properties such as fixed acidity and residual sugar are on very different scales compared to others like pH or alcohol. This variation in feature ranges suggests that scaling or normalization will likely be important before applying most machine learning models, particularly those sensitive to feature magnitude (e.g., k-nearest neighbors, SVMs, or gradient-based methods). Standardization (z-score scaling) or min–max scaling would help ensure that each feature contributes more comparably to model training."
   ]
  },
  {
   "cell_type": "markdown",
   "id": "4e0bf862",
   "metadata": {},
   "source": [
    "4."
   ]
  },
  {
   "cell_type": "code",
   "execution_count": 8,
   "id": "aae8a057",
   "metadata": {},
   "outputs": [
    {
     "data": {
      "image/png": "[encoded data removed]",
      "text/plain": [
       "<Figure size 1100x900 with 12 Axes>"
      ]
     },
     "metadata": {},
     "output_type": "display_data"
    }
   ],
   "source": [
    "#Form the histograms of the features\n",
    "red_wine_data.hist(bins=50, figsize=(11, 9))\n",
    "plt.show()"
   ]
  },
  {
   "cell_type": "markdown",
   "id": "5698d50a",
   "metadata": {},
   "source": [
    "Some features such as density or pH are normally distributed(Gaussian), while others (for example residual sugar) are right skewed. A common way to do this for positive features with a heavy tail to the right is to replace the feature with its square root (or raise the feature to a power between 0 and 1). If the feature has a really long and heavy tail, such as residual sugar, then replacing the feature with its logarithm may help. Another approach to handle heavy-tailed features consists in bucketizing the feature. This means chopping its distribution into roughly equal-sized buckets, and replacing each feature value with the index of the bucket it belongs to."
   ]
  },
  {
   "cell_type": "markdown",
   "id": "e7ea4add",
   "metadata": {},
   "source": [
    "5."
   ]
  },
  {
   "cell_type": "code",
   "execution_count": 9,
   "id": "232fb656",
   "metadata": {},
   "outputs": [
    {
     "name": "stdout",
     "output_type": "stream",
     "text": [
      "alcohol                 0.476166\n",
      "sulphates               0.251397\n",
      "citric acid             0.226373\n",
      "fixed acidity           0.124052\n",
      "residual sugar          0.013732\n",
      "free sulfur dioxide    -0.050656\n",
      "pH                     -0.057731\n",
      "chlorides              -0.128907\n",
      "density                -0.174919\n",
      "total sulfur dioxide   -0.185100\n",
      "volatile acidity       -0.390558\n",
      "Name: quality, dtype: float64\n"
     ]
    }
   ],
   "source": [
    "correlation_matrix = red_wine_data.corr()[:-1]\n",
    "print(correlation_matrix['quality'].sort_values(ascending=False))"
   ]
  },
  {
   "cell_type": "markdown",
   "id": "dbd126de",
   "metadata": {},
   "source": [
    "The features that seem to affect wine quality positively are alcohol, sulphates, and citric acid.\n",
    "Features like volatile acidity, density, and chlorides have the most negative impact on quality.\n",
    "Some features, such as residual sugar and pH, appear to have very little or negligible correlation with quality."
   ]
  },
  {
   "cell_type": "markdown",
   "id": "dfb8cdb2",
   "metadata": {},
   "source": [
    "6."
   ]
  },
  {
   "cell_type": "code",
   "execution_count": 10,
   "id": "55c13ff8",
   "metadata": {},
   "outputs": [],
   "source": [
    "from sklearn.model_selection import train_test_split\n",
    "import pandas as pd\n",
    "\n",
    "# Perform stratified split directly on the DataFrame with `quality` included\n",
    "train_set, test_set = train_test_split(\n",
    "    red_wine_data, test_size=0.2, stratify=red_wine_data['quality'], random_state=42)"
   ]
  },
  {
   "cell_type": "code",
   "execution_count": 11,
   "id": "8b06318a",
   "metadata": {},
   "outputs": [
    {
     "name": "stdout",
     "output_type": "stream",
     "text": [
      "Dataset distribution:\n",
      "quality\n",
      "3    0.006\n",
      "4    0.033\n",
      "5    0.426\n",
      "6    0.399\n",
      "7    0.124\n",
      "8    0.011\n",
      "Name: proportion, dtype: float64\n",
      "Training set class distribution:\n",
      "quality\n",
      "3    0.006\n",
      "4    0.033\n",
      "5    0.426\n",
      "6    0.399\n",
      "7    0.124\n",
      "8    0.012\n",
      "Name: proportion, dtype: float64\n",
      "\n",
      "Test set class distribution:\n",
      "quality\n",
      "3    0.006\n",
      "4    0.034\n",
      "5    0.425\n",
      "6    0.400\n",
      "7    0.125\n",
      "8    0.009\n",
      "Name: proportion, dtype: float64\n"
     ]
    }
   ],
   "source": [
    "# Verify the class distribution in overall dataset and in both training and test sets\n",
    "\n",
    "print(\"Dataset distribution:\")\n",
    "print(round(red_wine_data['quality'].value_counts(normalize=True).sort_index(),3))\n",
    "\n",
    "print(\"Training set class distribution:\")\n",
    "print(round(train_set['quality'].value_counts(normalize=True).sort_index(),3))\n",
    "\n",
    "print(\"\\nTest set class distribution:\")\n",
    "print(round(test_set['quality'].value_counts(normalize=True).sort_index(),3))"
   ]
  },
  {
   "cell_type": "code",
   "execution_count": 12,
   "id": "18683977",
   "metadata": {},
   "outputs": [],
   "source": [
    "# Split the dataset into features (X) and target (y)\n",
    "# X includes every column except the last one (quality) and y includes only the last\n",
    "X_train = train_set.iloc[:, :-1]  \n",
    "y_train = train_set.iloc[:, -1] \n",
    "X_test = test_set.iloc[:, :-1]    \n",
    "y_test = test_set.iloc[:, -1] "
   ]
  },
  {
   "cell_type": "code",
   "execution_count": 13,
   "id": "645a9f8e",
   "metadata": {},
   "outputs": [
    {
     "name": "stdout",
     "output_type": "stream",
     "text": [
      "X_train shape: (1279, 11)\n",
      "y_train shape: (1279,)\n",
      "X_test shape: (320, 11)\n",
      "y_test shape: (320,)\n"
     ]
    }
   ],
   "source": [
    "print(\"X_train shape:\", X_train.shape)\n",
    "print(\"y_train shape:\", y_train.shape)\n",
    "print(\"X_test shape:\", X_test.shape)\n",
    "print(\"y_test shape:\", y_test.shape)"
   ]
  },
  {
   "cell_type": "markdown",
   "id": "15bfd160",
   "metadata": {},
   "source": [
    "7."
   ]
  },
  {
   "cell_type": "code",
   "execution_count": 14,
   "id": "a9d8cccc",
   "metadata": {},
   "outputs": [],
   "source": [
    "#Scale the data\n",
    "from sklearn.preprocessing import StandardScaler\n",
    "scaler = StandardScaler()\n",
    "\n",
    "X_train_scaled = scaler.fit_transform(X_train)\n",
    "X_test_scaled = scaler.transform(X_test)"
   ]
  },
  {
   "cell_type": "code",
   "execution_count": 15,
   "id": "f7d253e7",
   "metadata": {},
   "outputs": [
    {
     "data": {
      "text/html": [
       "<style>#sk-container-id-1 {color: black;}#sk-container-id-1 pre{padding: 0;}#sk-container-id-1 div.sk-toggleable {background-color: white;}#sk-container-id-1 label.sk-toggleable__label {cursor: pointer;display: block;width: 100%;margin-bottom: 0;padding: 0.3em;box-sizing: border-box;text-align: center;}#sk-container-id-1 label.sk-toggleable__label-arrow:before {content: \"▸\";float: left;margin-right: 0.25em;color: #696969;}#sk-container-id-1 label.sk-toggleable__label-arrow:hover:before {color: black;}#sk-container-id-1 div.sk-estimator:hover label.sk-toggleable__label-arrow:before {color: black;}#sk-container-id-1 div.sk-toggleable__content {max-height: 0;max-width: 0;overflow: hidden;text-align: left;background-color: #f0f8ff;}#sk-container-id-1 div.sk-toggleable__content pre {margin: 0.2em;color: black;border-radius: 0.25em;background-color: #f0f8ff;}#sk-container-id-1 input.sk-toggleable__control:checked~div.sk-toggleable__content {max-height: 200px;max-width: 100%;overflow: auto;}#sk-container-id-1 input.sk-toggleable__control:checked~label.sk-toggleable__label-arrow:before {content: \"▾\";}#sk-container-id-1 div.sk-estimator input.sk-toggleable__control:checked~label.sk-toggleable__label {background-color: #d4ebff;}#sk-container-id-1 div.sk-label input.sk-toggleable__control:checked~label.sk-toggleable__label {background-color: #d4ebff;}#sk-container-id-1 input.sk-hidden--visually {border: 0;clip: rect(1px 1px 1px 1px);clip: rect(1px, 1px, 1px, 1px);height: 1px;margin: -1px;overflow: hidden;padding: 0;position: absolute;width: 1px;}#sk-container-id-1 div.sk-estimator {font-family: monospace;background-color: #f0f8ff;border: 1px dotted black;border-radius: 0.25em;box-sizing: border-box;margin-bottom: 0.5em;}#sk-container-id-1 div.sk-estimator:hover {background-color: #d4ebff;}#sk-container-id-1 div.sk-parallel-item::after {content: \"\";width: 100%;border-bottom: 1px solid gray;flex-grow: 1;}#sk-container-id-1 div.sk-label:hover label.sk-toggleable__label {background-color: #d4ebff;}#sk-container-id-1 div.sk-serial::before {content: \"\";position: absolute;border-left: 1px solid gray;box-sizing: border-box;top: 0;bottom: 0;left: 50%;z-index: 0;}#sk-container-id-1 div.sk-serial {display: flex;flex-direction: column;align-items: center;background-color: white;padding-right: 0.2em;padding-left: 0.2em;position: relative;}#sk-container-id-1 div.sk-item {position: relative;z-index: 1;}#sk-container-id-1 div.sk-parallel {display: flex;align-items: stretch;justify-content: center;background-color: white;position: relative;}#sk-container-id-1 div.sk-item::before, #sk-container-id-1 div.sk-parallel-item::before {content: \"\";position: absolute;border-left: 1px solid gray;box-sizing: border-box;top: 0;bottom: 0;left: 50%;z-index: -1;}#sk-container-id-1 div.sk-parallel-item {display: flex;flex-direction: column;z-index: 1;position: relative;background-color: white;}#sk-container-id-1 div.sk-parallel-item:first-child::after {align-self: flex-end;width: 50%;}#sk-container-id-1 div.sk-parallel-item:last-child::after {align-self: flex-start;width: 50%;}#sk-container-id-1 div.sk-parallel-item:only-child::after {width: 0;}#sk-container-id-1 div.sk-dashed-wrapped {border: 1px dashed gray;margin: 0 0.4em 0.5em 0.4em;box-sizing: border-box;padding-bottom: 0.4em;background-color: white;}#sk-container-id-1 div.sk-label label {font-family: monospace;font-weight: bold;display: inline-block;line-height: 1.2em;}#sk-container-id-1 div.sk-label-container {text-align: center;}#sk-container-id-1 div.sk-container {/* jupyter's `normalize.less` sets `[hidden] { display: none; }` but bootstrap.min.css set `[hidden] { display: none !important; }` so we also need the `!important` here to be able to override the default hidden behavior on the sphinx rendered scikit-learn.org. See: https://github.com/scikit-learn/scikit-learn/issues/21755 */display: inline-block !important;position: relative;}#sk-container-id-1 div.sk-text-repr-fallback {display: none;}</style><div id=\"sk-container-id-1\" class=\"sk-top-container\"><div class=\"sk-text-repr-fallback\"><pre>LinearRegression()</pre><b>In a Jupyter environment, please rerun this cell to show the HTML representation or trust the notebook. <br />On GitHub, the HTML representation is unable to render, please try loading this page with nbviewer.org.</b></div><div class=\"sk-container\" hidden><div class=\"sk-item\"><div class=\"sk-estimator sk-toggleable\"><input class=\"sk-toggleable__control sk-hidden--visually\" id=\"sk-estimator-id-1\" type=\"checkbox\" checked><label for=\"sk-estimator-id-1\" class=\"sk-toggleable__label sk-toggleable__label-arrow\">LinearRegression</label><div class=\"sk-toggleable__content\"><pre>LinearRegression()</pre></div></div></div></div></div>"
      ],
      "text/plain": [
       "LinearRegression()"
      ]
     },
     "execution_count": 15,
     "metadata": {},
     "output_type": "execute_result"
    }
   ],
   "source": [
    "#Train a linear regression model\n",
    "from sklearn.linear_model import LinearRegression\n",
    "\n",
    "model = LinearRegression()\n",
    "model.fit(X_train_scaled, y_train)"
   ]
  },
  {
   "cell_type": "code",
   "execution_count": 16,
   "id": "2e617985",
   "metadata": {},
   "outputs": [],
   "source": [
    "# Predict on the test set\n",
    "y_pred = model.predict(X_test_scaled)"
   ]
  },
  {
   "cell_type": "code",
   "execution_count": 17,
   "id": "cfe7b21e",
   "metadata": {},
   "outputs": [],
   "source": [
    "from sklearn.metrics import mean_absolute_error, mean_squared_error, r2_score\n",
    "import numpy as np\n",
    "\n",
    "# Calculate evaluation metrics\n",
    "r2 = r2_score(y_test, y_pred) #Indicates how well the model explains the variance in the data\n",
    "mae = mean_absolute_error(y_test, y_pred) #Measure the error in predictions\n",
    "mse = mean_squared_error(y_test, y_pred) #Measure the error in predictions\n",
    "mape = np.mean(np.abs((y_test - y_pred) / y_test)) * 100 #Represents the percentage error between actual and predicted values"
   ]
  },
  {
   "cell_type": "code",
   "execution_count": 18,
   "id": "45c947ff",
   "metadata": {},
   "outputs": [
    {
     "name": "stdout",
     "output_type": "stream",
     "text": [
      "R2 Score: 0.370\n",
      "Mean Absolute Error (MAE): 0.495\n",
      "Mean Squared Error (MSE): 0.406\n",
      "Mean Absolute Percentage Error (MAPE): 9.107%\n"
     ]
    }
   ],
   "source": [
    "# Print evaluation metrics with 3 decimal points\n",
    "print(f'R2 Score: {r2:.3f}')\n",
    "print(f'Mean Absolute Error (MAE): {mae:.3f}')\n",
    "print(f'Mean Squared Error (MSE): {mse:.3f}')\n",
    "print(f'Mean Absolute Percentage Error (MAPE): {mape:.3f}%')"
   ]
  },
  {
   "cell_type": "markdown",
   "id": "54b753ec",
   "metadata": {},
   "source": [
    "Accuracy is a measure for classification, not regression. We cannot calculate accuracy for a regression model."
   ]
  },
  {
   "cell_type": "code",
   "execution_count": 19,
   "id": "c8f8a2a2",
   "metadata": {},
   "outputs": [
    {
     "data": {
      "image/png": "[encoded data removed]",
      "text/plain": [
       "<Figure size 800x600 with 1 Axes>"
      ]
     },
     "metadata": {},
     "output_type": "display_data"
    }
   ],
   "source": [
    "# Plot Actuals vs Predicted values\n",
    "plt.figure(figsize=(8, 6))\n",
    "plt.scatter(y_test, y_pred, alpha=0.7)\n",
    "plt.plot([y_test.min(), y_test.max()], [y_test.min(), y_test.max()], 'r--', lw=2)\n",
    "plt.xlabel('Actual Quality')\n",
    "plt.ylabel('Predicted Quality')\n",
    "plt.title('Actual vs Predicted Wine Quality')\n",
    "plt.grid(True)\n",
    "plt.show()"
   ]
  },
  {
   "cell_type": "markdown",
   "id": "4b5d3c25",
   "metadata": {},
   "source": [
    "### Actual vs. Predicted Wine Quality\n",
    "\n",
    "The scatter plot compares the **actual wine quality scores** (x-axis) against the **predicted scores** from the linear regression model (y-axis).  \n",
    "\n",
    "- The red dashed line represents the **ideal case** where predictions perfectly match the actual values.  \n",
    "- Most points cluster reasonably close to this line, indicating that the model captures general trends in wine quality.  \n",
    "- However, the spread around the line shows that the predictions are not exact. In particular:\n",
    "  - Some underestimation and overestimation occurs, especially at the lower and higher ends of wine quality.  \n",
    "  - This suggests the model struggles with extreme cases and tends to regress towards the mean.  \n",
    "\n",
    "Overall, the closer the points are to the red diagonal line, the better the predictions match the actual values."
   ]
  },
  {
   "cell_type": "markdown",
   "id": "bd942de0",
   "metadata": {},
   "source": [
    "8."
   ]
  },
  {
   "cell_type": "markdown",
   "id": "92fbc479",
   "metadata": {},
   "source": [
    "If we scale the data before cross-validation, it can cause data leakage (information from the test folds leaking into the training folds).\n",
    "\n",
    "The proper way is to wrap preprocessing and the model inside a Pipeline, so that scaling is fit only on the training fold during cross-validation."
   ]
  },
  {
   "cell_type": "code",
   "execution_count": 24,
   "id": "7c6f37d0",
   "metadata": {},
   "outputs": [],
   "source": [
    "from sklearn.pipeline import Pipeline\n",
    "from sklearn.preprocessing import StandardScaler\n",
    "from sklearn.linear_model import LinearRegression\n",
    "from sklearn.model_selection import cross_val_score\n",
    "\n",
    "# Build pipeline with scaling and regression\n",
    "pipeline = Pipeline([\n",
    "    ('scaler', StandardScaler()),\n",
    "    ('regressor', LinearRegression())\n",
    "])\n",
    "\n",
    "# Perform 10-fold cross-validation on the pipeline\n",
    "cross_val_scores = cross_val_score(pipeline, X_train, y_train, cv=10)"
   ]
  },
  {
   "cell_type": "code",
   "execution_count": 25,
   "id": "a38ed80e",
   "metadata": {},
   "outputs": [
    {
     "name": "stdout",
     "output_type": "stream",
     "text": [
      "Mean from 10-fold cross-validation: 0.338\n",
      "Standard deviation from 10-fold cross-validation: 0.072\n"
     ]
    }
   ],
   "source": [
    "# Evaluate mean and standard deviation\n",
    "mean = np.mean(cross_val_scores)\n",
    "std = np.std(cross_val_scores)\n",
    "\n",
    "print(f\"Mean from 10-fold cross-validation: {mean:.3f}\")\n",
    "print(f\"Standard deviation from 10-fold cross-validation: {std:.3f}\")"
   ]
  },
  {
   "cell_type": "code",
   "execution_count": 26,
   "id": "207a7383",
   "metadata": {},
   "outputs": [
    {
     "data": {
      "text/html": [
       "<style>#sk-container-id-2 {color: black;}#sk-container-id-2 pre{padding: 0;}#sk-container-id-2 div.sk-toggleable {background-color: white;}#sk-container-id-2 label.sk-toggleable__label {cursor: pointer;display: block;width: 100%;margin-bottom: 0;padding: 0.3em;box-sizing: border-box;text-align: center;}#sk-container-id-2 label.sk-toggleable__label-arrow:before {content: \"▸\";float: left;margin-right: 0.25em;color: #696969;}#sk-container-id-2 label.sk-toggleable__label-arrow:hover:before {color: black;}#sk-container-id-2 div.sk-estimator:hover label.sk-toggleable__label-arrow:before {color: black;}#sk-container-id-2 div.sk-toggleable__content {max-height: 0;max-width: 0;overflow: hidden;text-align: left;background-color: #f0f8ff;}#sk-container-id-2 div.sk-toggleable__content pre {margin: 0.2em;color: black;border-radius: 0.25em;background-color: #f0f8ff;}#sk-container-id-2 input.sk-toggleable__control:checked~div.sk-toggleable__content {max-height: 200px;max-width: 100%;overflow: auto;}#sk-container-id-2 input.sk-toggleable__control:checked~label.sk-toggleable__label-arrow:before {content: \"▾\";}#sk-container-id-2 div.sk-estimator input.sk-toggleable__control:checked~label.sk-toggleable__label {background-color: #d4ebff;}#sk-container-id-2 div.sk-label input.sk-toggleable__control:checked~label.sk-toggleable__label {background-color: #d4ebff;}#sk-container-id-2 input.sk-hidden--visually {border: 0;clip: rect(1px 1px 1px 1px);clip: rect(1px, 1px, 1px, 1px);height: 1px;margin: -1px;overflow: hidden;padding: 0;position: absolute;width: 1px;}#sk-container-id-2 div.sk-estimator {font-family: monospace;background-color: #f0f8ff;border: 1px dotted black;border-radius: 0.25em;box-sizing: border-box;margin-bottom: 0.5em;}#sk-container-id-2 div.sk-estimator:hover {background-color: #d4ebff;}#sk-container-id-2 div.sk-parallel-item::after {content: \"\";width: 100%;border-bottom: 1px solid gray;flex-grow: 1;}#sk-container-id-2 div.sk-label:hover label.sk-toggleable__label {background-color: #d4ebff;}#sk-container-id-2 div.sk-serial::before {content: \"\";position: absolute;border-left: 1px solid gray;box-sizing: border-box;top: 0;bottom: 0;left: 50%;z-index: 0;}#sk-container-id-2 div.sk-serial {display: flex;flex-direction: column;align-items: center;background-color: white;padding-right: 0.2em;padding-left: 0.2em;position: relative;}#sk-container-id-2 div.sk-item {position: relative;z-index: 1;}#sk-container-id-2 div.sk-parallel {display: flex;align-items: stretch;justify-content: center;background-color: white;position: relative;}#sk-container-id-2 div.sk-item::before, #sk-container-id-2 div.sk-parallel-item::before {content: \"\";position: absolute;border-left: 1px solid gray;box-sizing: border-box;top: 0;bottom: 0;left: 50%;z-index: -1;}#sk-container-id-2 div.sk-parallel-item {display: flex;flex-direction: column;z-index: 1;position: relative;background-color: white;}#sk-container-id-2 div.sk-parallel-item:first-child::after {align-self: flex-end;width: 50%;}#sk-container-id-2 div.sk-parallel-item:last-child::after {align-self: flex-start;width: 50%;}#sk-container-id-2 div.sk-parallel-item:only-child::after {width: 0;}#sk-container-id-2 div.sk-dashed-wrapped {border: 1px dashed gray;margin: 0 0.4em 0.5em 0.4em;box-sizing: border-box;padding-bottom: 0.4em;background-color: white;}#sk-container-id-2 div.sk-label label {font-family: monospace;font-weight: bold;display: inline-block;line-height: 1.2em;}#sk-container-id-2 div.sk-label-container {text-align: center;}#sk-container-id-2 div.sk-container {/* jupyter's `normalize.less` sets `[hidden] { display: none; }` but bootstrap.min.css set `[hidden] { display: none !important; }` so we also need the `!important` here to be able to override the default hidden behavior on the sphinx rendered scikit-learn.org. See: https://github.com/scikit-learn/scikit-learn/issues/21755 */display: inline-block !important;position: relative;}#sk-container-id-2 div.sk-text-repr-fallback {display: none;}</style><div id=\"sk-container-id-2\" class=\"sk-top-container\"><div class=\"sk-text-repr-fallback\"><pre>Pipeline(steps=[(&#x27;scaler&#x27;, StandardScaler()),\n",
       "                (&#x27;regressor&#x27;, LinearRegression())])</pre><b>In a Jupyter environment, please rerun this cell to show the HTML representation or trust the notebook. <br />On GitHub, the HTML representation is unable to render, please try loading this page with nbviewer.org.</b></div><div class=\"sk-container\" hidden><div class=\"sk-item sk-dashed-wrapped\"><div class=\"sk-label-container\"><div class=\"sk-label sk-toggleable\"><input class=\"sk-toggleable__control sk-hidden--visually\" id=\"sk-estimator-id-2\" type=\"checkbox\" ><label for=\"sk-estimator-id-2\" class=\"sk-toggleable__label sk-toggleable__label-arrow\">Pipeline</label><div class=\"sk-toggleable__content\"><pre>Pipeline(steps=[(&#x27;scaler&#x27;, StandardScaler()),\n",
       "                (&#x27;regressor&#x27;, LinearRegression())])</pre></div></div></div><div class=\"sk-serial\"><div class=\"sk-item\"><div class=\"sk-estimator sk-toggleable\"><input class=\"sk-toggleable__control sk-hidden--visually\" id=\"sk-estimator-id-3\" type=\"checkbox\" ><label for=\"sk-estimator-id-3\" class=\"sk-toggleable__label sk-toggleable__label-arrow\">StandardScaler</label><div class=\"sk-toggleable__content\"><pre>StandardScaler()</pre></div></div></div><div class=\"sk-item\"><div class=\"sk-estimator sk-toggleable\"><input class=\"sk-toggleable__control sk-hidden--visually\" id=\"sk-estimator-id-4\" type=\"checkbox\" ><label for=\"sk-estimator-id-4\" class=\"sk-toggleable__label sk-toggleable__label-arrow\">LinearRegression</label><div class=\"sk-toggleable__content\"><pre>LinearRegression()</pre></div></div></div></div></div></div></div>"
      ],
      "text/plain": [
       "Pipeline(steps=[('scaler', StandardScaler()),\n",
       "                ('regressor', LinearRegression())])"
      ]
     },
     "execution_count": 26,
     "metadata": {},
     "output_type": "execute_result"
    }
   ],
   "source": [
    "# Fit the pipeline on training data\n",
    "pipeline.fit(X_train, y_train)"
   ]
  },
  {
   "cell_type": "markdown",
   "id": "7236ff53",
   "metadata": {},
   "source": [
    " To see if the model’s R2 -score is within the limits defined by the 10-fold cross validation (i.e., within mean ± std):"
   ]
  },
  {
   "cell_type": "code",
   "execution_count": 27,
   "id": "1acc1244",
   "metadata": {},
   "outputs": [
    {
     "name": "stdout",
     "output_type": "stream",
     "text": [
      "R2 is within the limits of 10-fold cross-validation\n"
     ]
    }
   ],
   "source": [
    "# Evaluate on the test set\n",
    "y_pred = pipeline.predict(X_test)\n",
    "\n",
    "r2 = r2_score(y_test, y_pred)\n",
    "\n",
    "if r2 <= mean + std and r2 >= mean - std:\n",
    "    print(\"R2 is within the limits of 10-fold cross-validation\")\n",
    "else:\n",
    "    print(\"R2 is not within the limits of 10-fold cross-validation\")"
   ]
  },
  {
   "cell_type": "markdown",
   "id": "1e54d61d",
   "metadata": {},
   "source": [
    "## Overall Summary\n",
    "\n",
    "The goal of this project was to **estimate wine quality** based on physicochemical properties using the Wine Quality dataset from the UCI Machine Learning Repository. The workflow followed these key steps:\n",
    "\n",
    "1. **Data Loading and Inspection**  \n",
    "   - The dataset was downloaded, extracted, and explored.  \n",
    "   - No missing values were found, ensuring the dataset is clean.  \n",
    "   - Feature ranges varied widely (e.g., pH vs. residual sugar), highlighting the importance of feature scaling.  \n",
    "\n",
    "2. **Exploratory Data Analysis**  \n",
    "   - Histograms showed the distribution of different wine characteristics.  \n",
    "   - Correlation analysis indicated that certain features (like alcohol and volatile acidity) have stronger relationships with wine quality.  \n",
    "\n",
    "3. **Data Preparation**  \n",
    "   - A stratified train-test split ensured that the distribution of wine quality scores was preserved across training and testing sets.  \n",
    "   - Features were standardized using `StandardScaler` to account for varying scales.  \n",
    "\n",
    "4. **Modeling**  \n",
    "   - A **Linear Regression model** was trained on the scaled features.  \n",
    "   - Predictions showed that the model captures general trends but struggles with extreme cases, often regressing toward the mean quality scores.  \n",
    "\n",
    "5. **Evaluation**  \n",
    "   - Performance was assessed with R², MAE, MSE, and MAPE.  \n",
    "   - Cross-validation was applied with a pipeline (scaler + regression) to prevent data leakage.  \n",
    "   - Actual vs. Predicted plots demonstrated decent alignment but also clear variance, especially at quality extremes.  \n",
    "\n",
    "### Useful Insights\n",
    "\n",
    "- **Alcohol content** and **volatile acidity** appear as key predictors of wine quality, consistent with domain knowledge.  \n",
    "- Since wine quality scores are ordinal and discrete, Linear Regression provides a simple baseline but is limited in capturing non-linear relationships.  \n",
    "- Cross-validation revealed that the model generalizes moderately well, though variance suggests instability in some folds.  \n",
    "- More advanced models (e.g., Ridge/Lasso Regression, Random Forest, Gradient Boosting, or even Classification approaches with discretized quality categories) could provide better accuracy and robustness.  \n",
    "\n",
    "### Conclusion  \n",
    "\n",
    "This workflow demonstrates the complete pipeline from **data acquisition → preprocessing → modeling → evaluation**, and provides a foundation for further experimentation with more complex models. The study highlights how chemical properties influence wine quality and shows that **machine learning can estimate quality scores with reasonable accuracy**, though improvements are possible with more sophisticated techniques.  \n"
   ]
  }
 ],
 "metadata": {
  "kernelspec": {
   "display_name": "Python 3 (ipykernel)",
   "language": "python",
   "name": "python3"
  },
  "language_info": {
   "codemirror_mode": {
    "name": "ipython",
    "version": 3
   },
   "file_extension": ".py",
   "mimetype": "text/x-python",
   "name": "python",
   "nbconvert_exporter": "python",
   "pygments_lexer": "ipython3",
   "version": "3.11.5"
  }
 },
 "nbformat": 4,
 "nbformat_minor": 5
}
